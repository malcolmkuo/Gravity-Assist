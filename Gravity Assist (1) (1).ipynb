{
 "cells": [
  {
   "cell_type": "code",
   "execution_count": 1,
   "id": "6224f0c0-8f20-43f9-867e-29cfa10f6469",
   "metadata": {},
   "outputs": [
    {
     "data": {
      "text/html": [
       "<div id=\"glowscript\" class=\"glowscript\"></div>"
      ],
      "text/plain": [
       "<IPython.core.display.HTML object>"
      ]
     },
     "metadata": {},
     "output_type": "display_data"
    },
    {
     "data": {
      "application/javascript": [
       "if (typeof Jupyter !== \"undefined\") { window.__context = { glowscript_container: $(\"#glowscript\").removeAttr(\"id\")};}else{ element.textContent = ' ';}"
      ],
      "text/plain": [
       "<IPython.core.display.Javascript object>"
      ]
     },
     "metadata": {},
     "output_type": "display_data"
    }
   ],
   "source": [
    "from math import *\n",
    "from vpython import *"
   ]
  },
  {
   "cell_type": "code",
   "execution_count": 2,
   "id": "a23fea43-c395-4bde-9295-67b53114c260",
   "metadata": {
    "scrolled": true
   },
   "outputs": [
    {
     "data": {
      "text/html": [
       "<div id=\"glowscript\" class=\"glowscript\"></div>"
      ],
      "text/plain": [
       "<IPython.core.display.HTML object>"
      ]
     },
     "metadata": {},
     "output_type": "display_data"
    },
    {
     "data": {
      "application/javascript": [
       "if (typeof Jupyter !== \"undefined\") { window.__context = { glowscript_container: $(\"#glowscript\").removeAttr(\"id\")};}else{ element.textContent = ' ';}"
      ],
      "text/plain": [
       "<IPython.core.display.Javascript object>"
      ]
     },
     "metadata": {},
     "output_type": "display_data"
    },
    {
     "name": "stdout",
     "output_type": "stream",
     "text": [
      "stop\n"
     ]
    }
   ],
   "source": [
    "# Force helper function\n",
    "# Force exerted on part1 by part2\n",
    "def force(part1, part2):\n",
    "    r = part1.pos - part2.pos\n",
    "    f = -(G * part1.mass * part2.mass / mag(r)**2) * norm(r)\n",
    "    return f\n",
    "\n",
    "# Collision helper functrion\n",
    "# Check whether two objects have collided\n",
    "def iscollided(part1, part2):\n",
    "    r = mag(part1.pos - part2.pos)\n",
    "    return (r < part1.radius or r < part2.radius)\n",
    "\n",
    "#\n",
    "# Needed Constants\n",
    "#\n",
    "sun_jupiter_distance = 760e9  # meters\n",
    "jupiter_speed = (2 * pi * sun_jupiter_distance) / (12 * 3.15e7)  # meters/second (12 Earth years in a Jupiter year)\n",
    "jupiter_radius = 70e6 # 70,000 km\n",
    "satellite_speed = 10e3 # m/s\n",
    "\n",
    "# Vary the impact parameter\n",
    "impact_parameter = 400\n",
    "initial_x_distance = 715\n",
    "approach_angle1 = 80\n",
    "approach_angle2 = 75\n",
    "approach_angle3 = 70\n",
    "approach_angle4 = 65\n",
    "\n",
    "#\n",
    "# Set up the display\n",
    "#\n",
    "scene1 = canvas(\n",
    "    title='Satellite Gravity Assist Using Jupiter',\n",
    "    caption='Animated Display',\n",
    "    center=vector(sun_jupiter_distance, 0, 0),\n",
    ")\n",
    "\n",
    "#\n",
    "# Make the radius of each object large enough to see them\n",
    "#\n",
    "satellite1 = sphere(\n",
    "    pos=vector(sun_jupiter_distance - initial_x_distance * jupiter_radius, impact_parameter * jupiter_radius, 0),\n",
    "    radius=0.3 * jupiter_radius,\n",
    "    color=color.green,\n",
    "    # make_trail=True,\n",
    ")\n",
    "\n",
    "satellite2 = sphere(\n",
    "    pos=vector(sun_jupiter_distance - initial_x_distance * jupiter_radius, impact_parameter * jupiter_radius, 0),\n",
    "    radius=0.3 * jupiter_radius,\n",
    "    color=color.blue,\n",
    "    # make_trail=True,\n",
    ")\n",
    "\n",
    "satellite3 = sphere(\n",
    "    pos=vector(sun_jupiter_distance - initial_x_distance * jupiter_radius, impact_parameter * jupiter_radius, 0),\n",
    "    radius=0.3 * jupiter_radius,\n",
    "    color=color.white,\n",
    "    # make_trail=True,\n",
    ")\n",
    "\n",
    "satellite4 = sphere(\n",
    "    pos=vector(sun_jupiter_distance - initial_x_distance * jupiter_radius, impact_parameter * jupiter_radius, 0),\n",
    "    radius=0.3 * jupiter_radius,\n",
    "    color=color.red,\n",
    "    # make_trail=True,\n",
    ")\n",
    "\n",
    "jupiter = sphere(\n",
    "    pos=vector(sun_jupiter_distance, 0, 0),\n",
    "    radius=jupiter_radius*100,\n",
    "    color=color.orange,\n",
    "    # make_trail=True,\n",
    ")\n",
    "sun = sphere(\n",
    "    pos=vector(0, 0, 0),\n",
    "    radius=7e10,\n",
    "    color=color.yellow,\n",
    ")\n",
    "\n",
    "# Create a trail for the satellite and jupiter\n",
    "satellite1.trail = curve(color = color.magenta)\n",
    "satellite2.trail = curve(color = color.blue)\n",
    "satellite3.trail = curve(color = color.white)\n",
    "satellite4.trail = curve(color = color.red)\n",
    "\n",
    "jupiter.trail = curve(color = color.yellow)\n",
    "\n",
    "# Universal gravitational constant\n",
    "G = 6.674e-11\n",
    "\n",
    "# Masses of the planets\n",
    "jupiter.mass = 1.89e27\n",
    "sun.mass = 1.989e30\n",
    "satellite1.mass = 700\n",
    "satellite2.mass = 700\n",
    "satellite3.mass = 700\n",
    "satellite4.mass = 700\n",
    "\n",
    "# Initial momentum vectors\n",
    "satellite1.momentum = satellite1.mass * vector(satellite_speed*cos(approach_angle1/57.3), satellite_speed*sin(approach_angle1/57.3), 0)\n",
    "satellite2.momentum = satellite2.mass * vector(satellite_speed*cos(approach_angle2/57.3), satellite_speed*sin(approach_angle2/57.3), 0)\n",
    "satellite3.momentum = satellite3.mass * vector(satellite_speed*cos(approach_angle3/57.3), satellite_speed*sin(approach_angle3/57.3), 0)\n",
    "satellite4.momentum = satellite4.mass * vector(satellite_speed*cos(approach_angle4/57.3), satellite_speed*sin(approach_angle4/57.3), 0)\n",
    "\n",
    "\n",
    "jupiter.momentum = jupiter.mass * vector(0, jupiter_speed, 0)\n",
    "sun.momentum = sun.mass * vector(0, 0, 0)\n",
    "\n",
    "#\n",
    "# Simulation parameters\n",
    "#\n",
    "\n",
    "\n",
    "\n",
    "\n",
    "scale = 3e-12  # Scaling factor for visualization\n",
    "time = 0  # Start time\n",
    "dt = 1800  # Time step of 1 hour for improved accuracy\n",
    "\n",
    "s='<b>Velocity of satellites</b>'\n",
    "#\n",
    "graph(title=s, xtitle='distance from sun', ytitle='Velocity',xmax=8.5e11, ymax=1.4e4, ymin=0.8e4, \n",
    "      x=7e11, y=500, width=500, height=300)\n",
    "sat1 = gcurve(color=color.cyan, label='Satellite 1 velocity')\n",
    "sat2 = gcurve(color=color.red, label='Satellite 2 velocity')\n",
    "sat3 = gcurve(color=color.blue, label='Satellite 3 velocity')\n",
    "sat4 = gcurve(color=color.yellow, label='Satellite 4 velocity')\n",
    "escapeV = gcurve(color=color.black, label='Escape velocity of Sun')\n",
    "\n",
    "\n",
    "for R in arange(6.5e11, 9e11, 1e8):\n",
    "    rate(1000)\n",
    "    escapeV.plot(R, sqrt(2 * G * sun.mass/R))\n",
    "\n",
    "\n",
    "while time < 3.15e7:  # Run the simulation for half a year\n",
    "    rate(1000)  # Limit updates to 100 per second\n",
    "    \n",
    "    time += dt\n",
    "\n",
    "    # Check for collision\n",
    "    \n",
    "    #if iscollided(satellite1, jupiter) or iscollided(satellite2, jupiter) or iscollided(satellite3, jupiter) or iscollided(satellite4, jupiter):\n",
    "        #print('The Satellite has crashed!')\n",
    "        #break\n",
    "        \n",
    "    # Compute forces\n",
    "    jupiter.force = force(jupiter, sun) + force(jupiter, satellite1)\n",
    "    satellite1.force = force(satellite1, sun) + force(satellite1, jupiter)\n",
    "    satellite2.force = force(satellite2, sun) + force(satellite2, jupiter)\n",
    "    satellite3.force = force(satellite3, sun) + force(satellite3, jupiter)\n",
    "    satellite4.force = force(satellite4, sun) + force(satellite4, jupiter)\n",
    "    \n",
    "    # Update momentum\n",
    "    jupiter.momentum += jupiter.force * dt\n",
    "    satellite1.momentum += satellite1.force * dt\n",
    "    satellite2.momentum += satellite2.force * dt\n",
    "    satellite3.momentum += satellite3.force * dt\n",
    "    satellite4.momentum += satellite4.force * dt\n",
    "    \n",
    "    # Update positions\n",
    "    jupiter.pos += (jupiter.momentum / jupiter.mass) * dt\n",
    "    satellite1.pos += (satellite1.momentum / satellite1.mass) * dt\n",
    "    satellite2.pos += (satellite2.momentum / satellite2.mass) * dt\n",
    "    satellite3.pos += (satellite3.momentum / satellite3.mass) * dt\n",
    "    satellite4.pos += (satellite4.momentum / satellite4.mass) * dt\n",
    "    \n",
    "    # Update trails\n",
    "    jupiter.trail.append(pos=jupiter.pos)\n",
    "    satellite1.trail.append(pos=satellite1.pos)\n",
    "    satellite2.trail.append(pos=satellite2.pos)\n",
    "    satellite3.trail.append(pos=satellite3.pos)\n",
    "    satellite4.trail.append(pos=satellite4.pos)\n",
    "\n",
    "\n",
    "    #print(satellite1.pos, \"  \",mag(satellite1.momentum/satellite1.mass))\n",
    "    sat1.plot(pos=(mag(satellite1.pos), mag(satellite1.momentum/satellite1.mass)))\n",
    "    sat2.plot(pos=(mag(satellite2.pos), mag(satellite2.momentum/satellite2.mass)))\n",
    "    sat3.plot(pos=(mag(satellite3.pos), mag(satellite3.momentum/satellite3.mass)))\n",
    "    sat4.plot(pos=(mag(satellite4.pos), mag(satellite4.momentum/satellite4.mass)))\n",
    "\n",
    "\n",
    "\n",
    "\n",
    "for R in arange(6.5e11, 9e11, 1e8):\n",
    "    rate(10000)\n",
    "    escapeV.plot(R, sqrt(2 * G * sun.mass/R))\n",
    "\n",
    "    \n",
    "# Print simulation duration in days\n",
    "days = time / (3600 * 24)\n",
    "\n",
    "theta1 = atan2(satellite1.momentum.y,satellite1.momentum.x)*57.3\n",
    "theta2 = atan2(satellite2.momentum.y,satellite2.momentum.x)*57.3\n",
    "theta3 = atan2(satellite2.momentum.y,satellite3.momentum.x)*57.3\n",
    "theta4 = atan2(satellite2.momentum.y,satellite4.momentum.x)*57.3\n",
    "\n",
    "final_speed1 = mag(satellite1.momentum / satellite1.mass)\n",
    "final_speed2 = mag(satellite2.momentum / satellite2.mass)\n",
    "final_speed3 = mag(satellite3.momentum / satellite3.mass)\n",
    "final_speed4 = mag(satellite4.momentum / satellite4.mass)\n",
    "percent_change1 = 100 * (final_speed1 - satellite_speed)/satellite_speed\n",
    "percent_change2 = 100 * (final_speed2 - satellite_speed)/satellite_speed\n",
    "percent_change3 = 100 * (final_speed3 - satellite_speed)/satellite_speed\n",
    "percent_change4 = 100 * (final_speed4 - satellite_speed)/satellite_speed\n",
    "\n",
    "# print('Simulation duration:', days, 'days')\n",
    "# print('Initial Speed:', int(satellite_speed), 'm/s')\n",
    "#print('Initial X:', initial_x_distance)\n",
    "#print('Impact Parameter:', impact_parameter)\n",
    "#print('Final Speed:', int(final_speed1),\"m/s \", int(final_speed2), \"m/s \" , int(final_speed3), \"m/s \", int(final_speed4), 'm/s')\n",
    "#print('Percent Change in speed:', percent_change1,\"% \", percent_change2,'% ',percent_change3,\"% \", percent_change4, '%')\n",
    "#print('Theta: ', theta1, \" \" ,theta2, \" \",theta3,\" \",theta4,\" \", 'degrees')\n",
    "\n",
    "print('stop')"
   ]
  },
  {
   "cell_type": "code",
   "execution_count": null,
   "id": "013d459f-144f-4414-a0b1-90086579dded",
   "metadata": {},
   "outputs": [],
   "source": []
  }
 ],
 "metadata": {
  "kernelspec": {
   "display_name": "Python 3 (ipykernel)",
   "language": "python",
   "name": "python3"
  },
  "language_info": {
   "codemirror_mode": {
    "name": "ipython",
    "version": 3
   },
   "file_extension": ".py",
   "mimetype": "text/x-python",
   "name": "python",
   "nbconvert_exporter": "python",
   "pygments_lexer": "ipython3",
   "version": "3.12.4"
  }
 },
 "nbformat": 4,
 "nbformat_minor": 5
}
